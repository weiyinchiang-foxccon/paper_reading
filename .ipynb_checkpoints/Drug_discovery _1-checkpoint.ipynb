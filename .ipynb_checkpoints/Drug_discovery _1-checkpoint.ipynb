{
 "cells": [
  {
   "cell_type": "markdown",
   "metadata": {},
   "source": [
    "# Drug Discovery by Quantum Generative Models"
   ]
  },
  {
   "cell_type": "markdown",
   "metadata": {},
   "source": [
    "According to the claim by the author, this paper is **the first paper that deals with the real-world learning task via quantum GAN**. The real-world task here means the help for drug selection. The drug design is normally a long process, all kinds of combinations are the candidates of the possible new drugs. However, this can take a long time to perform the experiments in wet-lab to eliminate those unwanted candidates. Thanks for the artificial intelligence and powerful computer, the candidates can be preselected by a neural network, which trained by the chemical database, encoding the experience of what feasible drug suppose to look like."
   ]
  },
  {
   "cell_type": "markdown",
   "metadata": {},
   "source": [
    "# Contribution\n",
    "* The first paper that deals with the real-world learning task via quantum GAN.\n",
    "* Implement the quantum circuits for QM9 database < 90 qubits: reducing the architecture complexity while retain the expression power."
   ]
  },
  {
   "cell_type": "markdown",
   "metadata": {},
   "source": [
    "Based on the work of \"MolGAN: An implicit generative model for small molecular graphs\"[1], this paper utilizes a generative adversarial network(GAN) to learn the data distribution of the real drug. The generator of the network will propose the new drug candidate base on the learned knowledge stored in the neural networks.\n",
    "\n",
    "GAN is first proposed by Ian Goodfellow and is consists of a generator and discriminator. The random vector is fed into the generator which supposes to output the data distribution similar to the true database. The discriminator will identify whether this data distribution comes from real data or generated one. For the training process, on one hand, generator wants to produce the data that close to the real data. On the other hand, the discriminator will try to be the best on the identification of real/fake data. \n",
    "\n",
    "In this work, the knowledge of possible drug structures will be embedded into the quantum circuit parameters and network weights. The network is composed of the quantum circuit and multi-layer perceptron in a generator, a multi-layer perceptron in discriminator. The workflow is: the measurement of the quantum circuit will be the input of multi-layer perceptron that generates the fake chemical structure. Discriminator will identify whether the chemical structure from the database or generator. When the training is finished, the generator supposed to be able to generate possible chemical structures.\n",
    "\n",
    "\n",
    "[Because of the definition of the loss function, the training process will be not easy and will be stuck when the discriminator performs extremely well. Various modification appears to improve this by adjusting the definition of the loss function. In MolGAN, they use WGAN whose loss function is defined by Wasserstein distance....]   "
   ]
  },
  {
   "cell_type": "code",
   "execution_count": null,
   "metadata": {},
   "outputs": [],
   "source": []
  }
 ],
 "metadata": {
  "kernelspec": {
   "display_name": "Python 3",
   "language": "python",
   "name": "python3"
  },
  "language_info": {
   "codemirror_mode": {
    "name": "ipython",
    "version": 3
   },
   "file_extension": ".py",
   "mimetype": "text/x-python",
   "name": "python",
   "nbconvert_exporter": "python",
   "pygments_lexer": "ipython3",
   "version": "3.7.3"
  }
 },
 "nbformat": 4,
 "nbformat_minor": 2
}
