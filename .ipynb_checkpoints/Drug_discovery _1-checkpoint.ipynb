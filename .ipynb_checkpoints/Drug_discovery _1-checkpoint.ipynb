{
 "cells": [
  {
   "cell_type": "markdown",
   "metadata": {},
   "source": [
    "# Drug Discovery by Quantum Generative Models"
   ]
  },
  {
   "cell_type": "markdown",
   "metadata": {},
   "source": [
    "According to the claim by the author, this paper is **the first paper that deals with the real-world learning task via quantum GAN**. The real-world task here means the help for drug selection. The drug design is normally a long process, all kinds of combinations are the candidates of the possible new drugs. However, this can take a long time to perform the experiments in wet-lab to eliminate those unwanted candidates. Thanks for the artificial intelligence and powerful computer, the candidates can be preselected by a neural network, which trained by the chemical database, encoding the experience of what feasible drug suppose to look like."
   ]
  },
  {
   "cell_type": "code",
   "execution_count": null,
   "metadata": {},
   "outputs": [],
   "source": []
  }
 ],
 "metadata": {
  "kernelspec": {
   "display_name": "Python 3",
   "language": "python",
   "name": "python3"
  },
  "language_info": {
   "codemirror_mode": {
    "name": "ipython",
    "version": 3
   },
   "file_extension": ".py",
   "mimetype": "text/x-python",
   "name": "python",
   "nbconvert_exporter": "python",
   "pygments_lexer": "ipython3",
   "version": "3.7.3"
  }
 },
 "nbformat": 4,
 "nbformat_minor": 2
}
